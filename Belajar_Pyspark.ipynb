{
  "nbformat": 4,
  "nbformat_minor": 0,
  "metadata": {
    "colab": {
      "provenance": [],
      "authorship_tag": "ABX9TyPORj980LJpxq3VHfgO4Dr2",
      "include_colab_link": true
    },
    "kernelspec": {
      "name": "python3",
      "display_name": "Python 3"
    },
    "language_info": {
      "name": "python"
    }
  },
  "cells": [
    {
      "cell_type": "markdown",
      "metadata": {
        "id": "view-in-github",
        "colab_type": "text"
      },
      "source": [
        "<a href=\"https://colab.research.google.com/github/davamuhamad/Belajar-Pyspark/blob/main/Belajar_Pyspark.ipynb\" target=\"_parent\"><img src=\"https://colab.research.google.com/assets/colab-badge.svg\" alt=\"Open In Colab\"/></a>"
      ]
    },
    {
      "cell_type": "markdown",
      "source": [
        "###CONFIG AND INSTALATION"
      ],
      "metadata": {
        "id": "gQvpppNqUnbL"
      }
    },
    {
      "cell_type": "markdown",
      "source": [
        "Install Environment"
      ],
      "metadata": {
        "id": "FZdPM2QoSefU"
      }
    },
    {
      "cell_type": "code",
      "execution_count": 1,
      "metadata": {
        "colab": {
          "base_uri": "https://localhost:8080/"
        },
        "id": "SAULa921SXCI",
        "outputId": "c35f73e6-f771-45d9-8f7e-73d6eaff0a11"
      },
      "outputs": [
        {
          "output_type": "stream",
          "name": "stdout",
          "text": [
            "Looking in indexes: https://pypi.org/simple, https://us-python.pkg.dev/colab-wheels/public/simple/\n",
            "Collecting pyspark\n",
            "  Downloading pyspark-3.3.2.tar.gz (281.4 MB)\n",
            "\u001b[2K     \u001b[90m━━━━━━━━━━━━━━━━━━━━━━━━━━━━━━━━━━━━━━━\u001b[0m \u001b[32m281.4/281.4 MB\u001b[0m \u001b[31m4.8 MB/s\u001b[0m eta \u001b[36m0:00:00\u001b[0m\n",
            "\u001b[?25h  Preparing metadata (setup.py) ... \u001b[?25l\u001b[?25hdone\n",
            "Collecting py4j==0.10.9.5\n",
            "  Downloading py4j-0.10.9.5-py2.py3-none-any.whl (199 kB)\n",
            "\u001b[2K     \u001b[90m━━━━━━━━━━━━━━━━━━━━━━━━━━━━━━━━━━━━━━\u001b[0m \u001b[32m199.7/199.7 KB\u001b[0m \u001b[31m11.0 MB/s\u001b[0m eta \u001b[36m0:00:00\u001b[0m\n",
            "\u001b[?25hBuilding wheels for collected packages: pyspark\n",
            "  Building wheel for pyspark (setup.py) ... \u001b[?25l\u001b[?25hdone\n",
            "  Created wheel for pyspark: filename=pyspark-3.3.2-py2.py3-none-any.whl size=281824025 sha256=1524361b4a0ed583ee97c7cbfc97dd8e41cc12b97c66197de350f972d130b231\n",
            "  Stored in directory: /root/.cache/pip/wheels/b1/59/a0/a1a0624b5e865fd389919c1a10f53aec9b12195d6747710baf\n",
            "Successfully built pyspark\n",
            "Installing collected packages: py4j, pyspark\n",
            "Successfully installed py4j-0.10.9.5 pyspark-3.3.2\n"
          ]
        }
      ],
      "source": [
        "%pip install pyspark"
      ]
    },
    {
      "cell_type": "markdown",
      "source": [
        "Config Environment"
      ],
      "metadata": {
        "id": "xtEKEPOWSdUb"
      }
    },
    {
      "cell_type": "code",
      "source": [
        "import pyspark\n",
        "from pyspark.sql import SparkSession\n",
        "from pyspark.sql.functions import avg\n",
        "from pyspark.sql.functions import *"
      ],
      "metadata": {
        "id": "Jc7f2jnJTm_i"
      },
      "execution_count": 2,
      "outputs": []
    },
    {
      "cell_type": "code",
      "source": [
        "spark = SparkSession.builder.appName('RDD & DataFrame').getOrCreate()"
      ],
      "metadata": {
        "id": "E61in3SnTzXb"
      },
      "execution_count": 3,
      "outputs": []
    },
    {
      "cell_type": "markdown",
      "source": [
        "###Read Data"
      ],
      "metadata": {
        "id": "CtYLymRdTplM"
      }
    },
    {
      "cell_type": "markdown",
      "source": [
        "Berikut disajikan list data populasi penduduk dari berbagai provinsi (province,population,district)"
      ],
      "metadata": {
        "id": "urr-ivjIT5HF"
      }
    },
    {
      "cell_type": "code",
      "source": [
        "\n",
        "listData = [(\"Banten\",1222258,\"Lebak\"),\n",
        "(\"Banten\",1175148,\"Pandeglang\"),\n",
        "(\"Banten\",1435003,\"Serang\"),\n",
        "(\"Banten\",2619803,\"Tangerang\"),\n",
        "(\"DKI Jakarta\",23340,\"Kepulauan Seribu\"),\n",
        "(\"DKI Jakarta\",2185711,\"Jakarta Selatan\"),\n",
        "(\"DKI Jakarta\",2843816,\"Jakarta Timur\"),\n",
        "(\"DKI Jakarta\",914182,\"Jakarta Pusat\"),\n",
        "(\"DKI Jakarta\",2463560,\"Jakarta Barat\"),\n",
        "(\"DKI Jakarta\",1747315,\"Jakarta Utara\")]\n",
        "\n",
        "listData"
      ],
      "metadata": {
        "colab": {
          "base_uri": "https://localhost:8080/"
        },
        "id": "Ch9wi68CT4gK",
        "outputId": "2e0f3494-e6d4-4c8d-ae34-20d6fda2545d"
      },
      "execution_count": 4,
      "outputs": [
        {
          "output_type": "execute_result",
          "data": {
            "text/plain": [
              "[('Banten', 1222258, 'Lebak'),\n",
              " ('Banten', 1175148, 'Pandeglang'),\n",
              " ('Banten', 1435003, 'Serang'),\n",
              " ('Banten', 2619803, 'Tangerang'),\n",
              " ('DKI Jakarta', 23340, 'Kepulauan Seribu'),\n",
              " ('DKI Jakarta', 2185711, 'Jakarta Selatan'),\n",
              " ('DKI Jakarta', 2843816, 'Jakarta Timur'),\n",
              " ('DKI Jakarta', 914182, 'Jakarta Pusat'),\n",
              " ('DKI Jakarta', 2463560, 'Jakarta Barat'),\n",
              " ('DKI Jakarta', 1747315, 'Jakarta Utara')]"
            ]
          },
          "metadata": {},
          "execution_count": 4
        }
      ]
    },
    {
      "cell_type": "markdown",
      "source": [
        "Bacalah data tersebut menggunakan spark RDD dan DATAFRAME "
      ],
      "metadata": {
        "id": "Pg9BZH9qUDOB"
      }
    },
    {
      "cell_type": "code",
      "source": [
        "dataRdd = "
      ],
      "metadata": {
        "id": "qRB6lqCCToPp"
      },
      "execution_count": null,
      "outputs": []
    },
    {
      "cell_type": "code",
      "source": [
        "dataRdd.collect()"
      ],
      "metadata": {
        "id": "CZ6VPXRYUUmb"
      },
      "execution_count": null,
      "outputs": []
    },
    {
      "cell_type": "code",
      "source": [
        "dataDataframe = "
      ],
      "metadata": {
        "id": "7vKtWudoUXJK"
      },
      "execution_count": null,
      "outputs": []
    },
    {
      "cell_type": "code",
      "source": [
        "dataDataframe.collet()"
      ],
      "metadata": {
        "id": "KXEHl6bkUZeq"
      },
      "execution_count": null,
      "outputs": []
    },
    {
      "cell_type": "markdown",
      "source": [
        "Gunakan Filter untuk data diatas sehingga mengelurkan data dari provinsi Banten  "
      ],
      "metadata": {
        "id": "XiD54E44UTWa"
      }
    },
    {
      "cell_type": "code",
      "source": [
        "rddf = "
      ],
      "metadata": {
        "id": "LXL85eDEVGyT"
      },
      "execution_count": null,
      "outputs": []
    },
    {
      "cell_type": "code",
      "source": [
        "rddf.collect()"
      ],
      "metadata": {
        "id": "bck5flu7VKeS"
      },
      "execution_count": null,
      "outputs": []
    },
    {
      "cell_type": "code",
      "source": [
        "dff = "
      ],
      "metadata": {
        "id": "XrLZeN3PVMTb"
      },
      "execution_count": null,
      "outputs": []
    },
    {
      "cell_type": "code",
      "source": [
        "dff.collect()"
      ],
      "metadata": {
        "id": "zPJWJ-daVOoK"
      },
      "execution_count": null,
      "outputs": []
    },
    {
      "cell_type": "markdown",
      "source": [
        "Cari total populasi, rata rata populasi dan jumlah data dari semua data diatas menggunakan spark datafram"
      ],
      "metadata": {
        "id": "SE682DNAXpP8"
      }
    },
    {
      "cell_type": "code",
      "source": [
        "sum_pop = "
      ],
      "metadata": {
        "id": "TWFXQHFyX0m0"
      },
      "execution_count": null,
      "outputs": []
    },
    {
      "cell_type": "code",
      "source": [
        "avg_pop = "
      ],
      "metadata": {
        "id": "Xodc52Y0X3xD"
      },
      "execution_count": null,
      "outputs": []
    },
    {
      "cell_type": "code",
      "source": [
        "cnt_pop ="
      ],
      "metadata": {
        "id": "GID53H3YX5Xr"
      },
      "execution_count": null,
      "outputs": []
    },
    {
      "cell_type": "code",
      "source": [
        "sum_pop.collect()"
      ],
      "metadata": {
        "id": "HK9dTcMqX-3E"
      },
      "execution_count": null,
      "outputs": []
    },
    {
      "cell_type": "code",
      "source": [
        "avg_pop.collect()"
      ],
      "metadata": {
        "id": "K32I5enXYBgz"
      },
      "execution_count": null,
      "outputs": []
    },
    {
      "cell_type": "code",
      "source": [
        "cnt_pop.collect()"
      ],
      "metadata": {
        "id": "aflIJQJGYDhT"
      },
      "execution_count": null,
      "outputs": []
    }
  ]
}
