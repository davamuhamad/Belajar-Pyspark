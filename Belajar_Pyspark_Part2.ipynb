{
  "nbformat": 4,
  "nbformat_minor": 0,
  "metadata": {
    "colab": {
      "provenance": [],
      "authorship_tag": "ABX9TyO48Jqr5E9XqxUfxf8ne9jb",
      "include_colab_link": true
    },
    "kernelspec": {
      "name": "python3",
      "display_name": "Python 3"
    },
    "language_info": {
      "name": "python"
    }
  },
  "cells": [
    {
      "cell_type": "markdown",
      "metadata": {
        "id": "view-in-github",
        "colab_type": "text"
      },
      "source": [
        "<a href=\"https://colab.research.google.com/github/davamuhamad/Belajar-Pyspark/blob/main/Belajar_Pyspark_Part2.ipynb\" target=\"_parent\"><img src=\"https://colab.research.google.com/assets/colab-badge.svg\" alt=\"Open In Colab\"/></a>"
      ]
    },
    {
      "cell_type": "markdown",
      "source": [
        "##Pyspark - 2 \n",
        "- Read from another type file\n",
        "- Review Sekilas isi spark dataframe"
      ],
      "metadata": {
        "id": "HZ0tfwSB4iUX"
      }
    },
    {
      "cell_type": "code",
      "source": [
        "%pip install pyspark"
      ],
      "metadata": {
        "colab": {
          "base_uri": "https://localhost:8080/"
        },
        "id": "Kc4Kyzc25YaM",
        "outputId": "1bd7555c-3446-460c-f131-add7d96616dc"
      },
      "execution_count": 1,
      "outputs": [
        {
          "output_type": "stream",
          "name": "stdout",
          "text": [
            "Looking in indexes: https://pypi.org/simple, https://us-python.pkg.dev/colab-wheels/public/simple/\n",
            "Collecting pyspark\n",
            "  Downloading pyspark-3.3.2.tar.gz (281.4 MB)\n",
            "\u001b[2K     \u001b[90m━━━━━━━━━━━━━━━━━━━━━━━━━━━━━━━━━━━━━━━\u001b[0m \u001b[32m281.4/281.4 MB\u001b[0m \u001b[31m3.3 MB/s\u001b[0m eta \u001b[36m0:00:00\u001b[0m\n",
            "\u001b[?25h  Preparing metadata (setup.py) ... \u001b[?25l\u001b[?25hdone\n",
            "Collecting py4j==0.10.9.5\n",
            "  Downloading py4j-0.10.9.5-py2.py3-none-any.whl (199 kB)\n",
            "\u001b[2K     \u001b[90m━━━━━━━━━━━━━━━━━━━━━━━━━━━━━━━━━━━━━━\u001b[0m \u001b[32m199.7/199.7 KB\u001b[0m \u001b[31m15.2 MB/s\u001b[0m eta \u001b[36m0:00:00\u001b[0m\n",
            "\u001b[?25hBuilding wheels for collected packages: pyspark\n",
            "  Building wheel for pyspark (setup.py) ... \u001b[?25l\u001b[?25hdone\n",
            "  Created wheel for pyspark: filename=pyspark-3.3.2-py2.py3-none-any.whl size=281824025 sha256=5f12caa5aa0371c83ae5ea42988f7eb711f2cf5fcbefaab49dfb8d445d24a0ff\n",
            "  Stored in directory: /root/.cache/pip/wheels/b1/59/a0/a1a0624b5e865fd389919c1a10f53aec9b12195d6747710baf\n",
            "Successfully built pyspark\n",
            "Installing collected packages: py4j, pyspark\n",
            "Successfully installed py4j-0.10.9.5 pyspark-3.3.2\n"
          ]
        }
      ]
    },
    {
      "cell_type": "code",
      "source": [
        "import pyspark\n",
        "from pyspark.sql.types import *\n",
        "from pyspark.sql.session import SparkSession\n",
        "from pyspark.sql.functions import *"
      ],
      "metadata": {
        "id": "Zbvz8SGh6CDe"
      },
      "execution_count": 2,
      "outputs": []
    },
    {
      "cell_type": "code",
      "source": [
        "spark = SparkSession.builder.appName('DataFrame Basics').getOrCreate()"
      ],
      "metadata": {
        "id": "6R7MFI_j6Fpd"
      },
      "execution_count": 3,
      "outputs": []
    },
    {
      "cell_type": "markdown",
      "source": [
        "###READ FROM ANOTHER TYPE FILE"
      ],
      "metadata": {
        "id": "2e520Wyt5IZs"
      }
    },
    {
      "cell_type": "markdown",
      "source": [
        "####READ DATA ARRAY"
      ],
      "metadata": {
        "id": "BMcRfG5b5NUj"
      }
    },
    {
      "cell_type": "code",
      "execution_count": 4,
      "metadata": {
        "colab": {
          "base_uri": "https://localhost:8080/"
        },
        "id": "Tuy5h13T4fRz",
        "outputId": "31dc863a-d8da-4b46-e289-0a6c6892d08b"
      },
      "outputs": [
        {
          "output_type": "stream",
          "name": "stdout",
          "text": [
            "+-------------+-------+\n",
            "|     province|density|\n",
            "+-------------+-------+\n",
            "|  DKI JAKARTA|  15328|\n",
            "|   JAWA BARAT|   1320|\n",
            "|  JAWA TENGAH|   1030|\n",
            "|DI YOGYAKARTA|   1174|\n",
            "|   JAWA TIMUR|    813|\n",
            "|       BANTEN|   1237|\n",
            "+-------------+-------+\n",
            "\n"
          ]
        }
      ],
      "source": [
        "mydata = (('DKI JAKARTA',15328),\n",
        "('JAWA BARAT',1320),\n",
        "('JAWA TENGAH',1030),\n",
        "('DI YOGYAKARTA',1174),\n",
        "('JAWA TIMUR',813),\n",
        "('BANTEN',1237))\n",
        "\n",
        "df_from_array = spark.createDataFrame(mydata).toDF(\"province\", \"density\")\n",
        "\n",
        "df_from_array.show()"
      ]
    },
    {
      "cell_type": "code",
      "source": [
        "myDataArray = (('Banten',1222258,'Lebak'),\n",
        "('Banten',1175148,'Pandeglang'),\n",
        "('Banten',1435003,'Serang'),\n",
        "('Banten',2619803,'Tangerang'),\n",
        "('DKI Jakarta',23340,'Kepulauan Seribu'),\n",
        "('DKI Jakarta',2185711,'Jakarta Selatan'),\n",
        "('DKI Jakarta',2843816,'Jakarta Timur'),\n",
        "('DKI Jakarta',914182,'Jakarta Pusat'),\n",
        "('DKI Jakarta',2463560,'Jakarta Barat'),\n",
        "('DKI Jakarta',1747315,'Jakarta Utara'))"
      ],
      "metadata": {
        "id": "vqNUUrdA7RSQ"
      },
      "execution_count": 5,
      "outputs": []
    },
    {
      "cell_type": "markdown",
      "source": [
        "Buatlah dataframe dari data array diatas"
      ],
      "metadata": {
        "id": "5jdXxrXF7w8t"
      }
    },
    {
      "cell_type": "code",
      "source": [
        "df_from_array = \n",
        "\n",
        "df_from_array.show()"
      ],
      "metadata": {
        "colab": {
          "base_uri": "https://localhost:8080/"
        },
        "id": "v4ZZ3S7o7lwO",
        "outputId": "a38274ad-a8e6-49cf-a952-8f167b030304"
      },
      "execution_count": 6,
      "outputs": [
        {
          "output_type": "stream",
          "name": "stdout",
          "text": [
            "+-----------+-------+----------------+\n",
            "|   province|    pop|        district|\n",
            "+-----------+-------+----------------+\n",
            "|     Banten|1222258|           Lebak|\n",
            "|     Banten|1175148|      Pandeglang|\n",
            "|     Banten|1435003|          Serang|\n",
            "|     Banten|2619803|       Tangerang|\n",
            "|DKI Jakarta|  23340|Kepulauan Seribu|\n",
            "|DKI Jakarta|2185711| Jakarta Selatan|\n",
            "|DKI Jakarta|2843816|   Jakarta Timur|\n",
            "|DKI Jakarta| 914182|   Jakarta Pusat|\n",
            "|DKI Jakarta|2463560|   Jakarta Barat|\n",
            "|DKI Jakarta|1747315|   Jakarta Utara|\n",
            "+-----------+-------+----------------+\n",
            "\n"
          ]
        }
      ]
    },
    {
      "cell_type": "markdown",
      "source": [
        "####READ FROM PANDAS DATAFRAME\n",
        "- Download file dummy pada alamat berikut https://www.dropbox.com/s/65mohvoyjshtqa9/penduduk2015.csv\n",
        "- Create dataframe menggunakan pandas dari file yang sudah didownload tersebut \n",
        "- Buatkan spark dataframe dari pandas dataframe yang sudah dibuat"
      ],
      "metadata": {
        "id": "Q4a7XxPq8CkX"
      }
    },
    {
      "cell_type": "code",
      "source": [
        "!wget https://www.dropbox.com/s/65mohvoyjshtqa9/penduduk2015.csv"
      ],
      "metadata": {
        "colab": {
          "base_uri": "https://localhost:8080/"
        },
        "id": "zr0qZQeL8BDX",
        "outputId": "517c0360-05e7-461f-dfec-8484e5168e25"
      },
      "execution_count": 9,
      "outputs": [
        {
          "output_type": "stream",
          "name": "stdout",
          "text": [
            "--2023-03-07 02:42:45--  https://www.dropbox.com/s/65mohvoyjshtqa9/penduduk2015.csv\n",
            "Resolving www.dropbox.com (www.dropbox.com)... 162.125.67.18, 2620:100:601d:18::a27d:512\n",
            "Connecting to www.dropbox.com (www.dropbox.com)|162.125.67.18|:443... connected.\n",
            "HTTP request sent, awaiting response... 302 Found\n",
            "Location: /s/raw/65mohvoyjshtqa9/penduduk2015.csv [following]\n",
            "--2023-03-07 02:42:46--  https://www.dropbox.com/s/raw/65mohvoyjshtqa9/penduduk2015.csv\n",
            "Reusing existing connection to www.dropbox.com:443.\n",
            "HTTP request sent, awaiting response... 302 Found\n",
            "Location: https://uc68b82192b9df06da205006c3ae.dl.dropboxusercontent.com/cd/0/inline/B3zYkLNqD5N8Rqi7VtrKoIZKfmAjL3JwMFyKrqPbFWMWPcnCG3ONm6k9uTomtMMK80EbpXI3LyNVAOtySIS0WwqKj-yfoPHbMT_44kWK5dSMgUASzQqnMukacKccHyfEWlBkTtxv6LLre8a1yaG7ceT9pR_euyzgSgX82O_qSHuaaw/file# [following]\n",
            "--2023-03-07 02:42:46--  https://uc68b82192b9df06da205006c3ae.dl.dropboxusercontent.com/cd/0/inline/B3zYkLNqD5N8Rqi7VtrKoIZKfmAjL3JwMFyKrqPbFWMWPcnCG3ONm6k9uTomtMMK80EbpXI3LyNVAOtySIS0WwqKj-yfoPHbMT_44kWK5dSMgUASzQqnMukacKccHyfEWlBkTtxv6LLre8a1yaG7ceT9pR_euyzgSgX82O_qSHuaaw/file\n",
            "Resolving uc68b82192b9df06da205006c3ae.dl.dropboxusercontent.com (uc68b82192b9df06da205006c3ae.dl.dropboxusercontent.com)... 162.125.5.15, 2620:100:601d:15::a27d:50f\n",
            "Connecting to uc68b82192b9df06da205006c3ae.dl.dropboxusercontent.com (uc68b82192b9df06da205006c3ae.dl.dropboxusercontent.com)|162.125.5.15|:443... connected.\n",
            "HTTP request sent, awaiting response... 200 OK\n",
            "Length: 120 [text/plain]\n",
            "Saving to: ‘penduduk2015.csv’\n",
            "\n",
            "penduduk2015.csv    100%[===================>]     120  --.-KB/s    in 0s      \n",
            "\n",
            "2023-03-07 02:42:46 (14.4 MB/s) - ‘penduduk2015.csv’ saved [120/120]\n",
            "\n"
          ]
        }
      ]
    },
    {
      "cell_type": "code",
      "source": [
        "import pandas as pd \n",
        "\n",
        "pddf = "
      ],
      "metadata": {
        "id": "rJkkslAe8jHV"
      },
      "execution_count": 10,
      "outputs": []
    },
    {
      "cell_type": "code",
      "source": [
        "pddf.head()"
      ],
      "metadata": {
        "colab": {
          "base_uri": "https://localhost:8080/",
          "height": 206
        },
        "id": "1dnrQ1nj8wk1",
        "outputId": "6c5c66a5-6d49-4151-b0a7-7a270a1bb9ce"
      },
      "execution_count": 11,
      "outputs": [
        {
          "output_type": "execute_result",
          "data": {
            "text/plain": [
              "        propinsi  penduduk\n",
              "0    DKI JAKARTA     15328\n",
              "1     JAWA BARAT      1320\n",
              "2    JAWA TENGAH      1030\n",
              "3  DI YOGYAKARTA      1174\n",
              "4     JAWA TIMUR       813"
            ],
            "text/html": [
              "\n",
              "  <div id=\"df-cff2c365-7258-462a-9527-d48a750a9976\">\n",
              "    <div class=\"colab-df-container\">\n",
              "      <div>\n",
              "<style scoped>\n",
              "    .dataframe tbody tr th:only-of-type {\n",
              "        vertical-align: middle;\n",
              "    }\n",
              "\n",
              "    .dataframe tbody tr th {\n",
              "        vertical-align: top;\n",
              "    }\n",
              "\n",
              "    .dataframe thead th {\n",
              "        text-align: right;\n",
              "    }\n",
              "</style>\n",
              "<table border=\"1\" class=\"dataframe\">\n",
              "  <thead>\n",
              "    <tr style=\"text-align: right;\">\n",
              "      <th></th>\n",
              "      <th>propinsi</th>\n",
              "      <th>penduduk</th>\n",
              "    </tr>\n",
              "  </thead>\n",
              "  <tbody>\n",
              "    <tr>\n",
              "      <th>0</th>\n",
              "      <td>DKI JAKARTA</td>\n",
              "      <td>15328</td>\n",
              "    </tr>\n",
              "    <tr>\n",
              "      <th>1</th>\n",
              "      <td>JAWA BARAT</td>\n",
              "      <td>1320</td>\n",
              "    </tr>\n",
              "    <tr>\n",
              "      <th>2</th>\n",
              "      <td>JAWA TENGAH</td>\n",
              "      <td>1030</td>\n",
              "    </tr>\n",
              "    <tr>\n",
              "      <th>3</th>\n",
              "      <td>DI YOGYAKARTA</td>\n",
              "      <td>1174</td>\n",
              "    </tr>\n",
              "    <tr>\n",
              "      <th>4</th>\n",
              "      <td>JAWA TIMUR</td>\n",
              "      <td>813</td>\n",
              "    </tr>\n",
              "  </tbody>\n",
              "</table>\n",
              "</div>\n",
              "      <button class=\"colab-df-convert\" onclick=\"convertToInteractive('df-cff2c365-7258-462a-9527-d48a750a9976')\"\n",
              "              title=\"Convert this dataframe to an interactive table.\"\n",
              "              style=\"display:none;\">\n",
              "        \n",
              "  <svg xmlns=\"http://www.w3.org/2000/svg\" height=\"24px\"viewBox=\"0 0 24 24\"\n",
              "       width=\"24px\">\n",
              "    <path d=\"M0 0h24v24H0V0z\" fill=\"none\"/>\n",
              "    <path d=\"M18.56 5.44l.94 2.06.94-2.06 2.06-.94-2.06-.94-.94-2.06-.94 2.06-2.06.94zm-11 1L8.5 8.5l.94-2.06 2.06-.94-2.06-.94L8.5 2.5l-.94 2.06-2.06.94zm10 10l.94 2.06.94-2.06 2.06-.94-2.06-.94-.94-2.06-.94 2.06-2.06.94z\"/><path d=\"M17.41 7.96l-1.37-1.37c-.4-.4-.92-.59-1.43-.59-.52 0-1.04.2-1.43.59L10.3 9.45l-7.72 7.72c-.78.78-.78 2.05 0 2.83L4 21.41c.39.39.9.59 1.41.59.51 0 1.02-.2 1.41-.59l7.78-7.78 2.81-2.81c.8-.78.8-2.07 0-2.86zM5.41 20L4 18.59l7.72-7.72 1.47 1.35L5.41 20z\"/>\n",
              "  </svg>\n",
              "      </button>\n",
              "      \n",
              "  <style>\n",
              "    .colab-df-container {\n",
              "      display:flex;\n",
              "      flex-wrap:wrap;\n",
              "      gap: 12px;\n",
              "    }\n",
              "\n",
              "    .colab-df-convert {\n",
              "      background-color: #E8F0FE;\n",
              "      border: none;\n",
              "      border-radius: 50%;\n",
              "      cursor: pointer;\n",
              "      display: none;\n",
              "      fill: #1967D2;\n",
              "      height: 32px;\n",
              "      padding: 0 0 0 0;\n",
              "      width: 32px;\n",
              "    }\n",
              "\n",
              "    .colab-df-convert:hover {\n",
              "      background-color: #E2EBFA;\n",
              "      box-shadow: 0px 1px 2px rgba(60, 64, 67, 0.3), 0px 1px 3px 1px rgba(60, 64, 67, 0.15);\n",
              "      fill: #174EA6;\n",
              "    }\n",
              "\n",
              "    [theme=dark] .colab-df-convert {\n",
              "      background-color: #3B4455;\n",
              "      fill: #D2E3FC;\n",
              "    }\n",
              "\n",
              "    [theme=dark] .colab-df-convert:hover {\n",
              "      background-color: #434B5C;\n",
              "      box-shadow: 0px 1px 3px 1px rgba(0, 0, 0, 0.15);\n",
              "      filter: drop-shadow(0px 1px 2px rgba(0, 0, 0, 0.3));\n",
              "      fill: #FFFFFF;\n",
              "    }\n",
              "  </style>\n",
              "\n",
              "      <script>\n",
              "        const buttonEl =\n",
              "          document.querySelector('#df-cff2c365-7258-462a-9527-d48a750a9976 button.colab-df-convert');\n",
              "        buttonEl.style.display =\n",
              "          google.colab.kernel.accessAllowed ? 'block' : 'none';\n",
              "\n",
              "        async function convertToInteractive(key) {\n",
              "          const element = document.querySelector('#df-cff2c365-7258-462a-9527-d48a750a9976');\n",
              "          const dataTable =\n",
              "            await google.colab.kernel.invokeFunction('convertToInteractive',\n",
              "                                                     [key], {});\n",
              "          if (!dataTable) return;\n",
              "\n",
              "          const docLinkHtml = 'Like what you see? Visit the ' +\n",
              "            '<a target=\"_blank\" href=https://colab.research.google.com/notebooks/data_table.ipynb>data table notebook</a>'\n",
              "            + ' to learn more about interactive tables.';\n",
              "          element.innerHTML = '';\n",
              "          dataTable['output_type'] = 'display_data';\n",
              "          await google.colab.output.renderOutput(dataTable, element);\n",
              "          const docLink = document.createElement('div');\n",
              "          docLink.innerHTML = docLinkHtml;\n",
              "          element.appendChild(docLink);\n",
              "        }\n",
              "      </script>\n",
              "    </div>\n",
              "  </div>\n",
              "  "
            ]
          },
          "metadata": {},
          "execution_count": 11
        }
      ]
    },
    {
      "cell_type": "code",
      "source": [
        "df_from_pandas = \n",
        "df_from_pandas.show()"
      ],
      "metadata": {
        "colab": {
          "base_uri": "https://localhost:8080/"
        },
        "id": "SSSwyOq1811z",
        "outputId": "160ac60e-f1af-4984-834a-5c25516b3ecd"
      },
      "execution_count": 12,
      "outputs": [
        {
          "output_type": "stream",
          "name": "stdout",
          "text": [
            "+-------------+--------+\n",
            "|     propinsi|penduduk|\n",
            "+-------------+--------+\n",
            "|  DKI JAKARTA|   15328|\n",
            "|   JAWA BARAT|    1320|\n",
            "|  JAWA TENGAH|    1030|\n",
            "|DI YOGYAKARTA|    1174|\n",
            "|   JAWA TIMUR|     813|\n",
            "|       BANTEN|    1237|\n",
            "+-------------+--------+\n",
            "\n"
          ]
        }
      ]
    },
    {
      "cell_type": "markdown",
      "source": [
        "####READ FROM CSV"
      ],
      "metadata": {
        "id": "0ikHVGL49Jzb"
      }
    },
    {
      "cell_type": "code",
      "source": [
        "df_from_csv =\n",
        "df_from_csv.show()"
      ],
      "metadata": {
        "colab": {
          "base_uri": "https://localhost:8080/"
        },
        "id": "gB6QqvOS87HG",
        "outputId": "0d69e9d8-db63-4cf4-972f-ae102f875929"
      },
      "execution_count": 13,
      "outputs": [
        {
          "output_type": "stream",
          "name": "stdout",
          "text": [
            "+-------------+--------+\n",
            "|     propinsi|penduduk|\n",
            "+-------------+--------+\n",
            "|  DKI JAKARTA|   15328|\n",
            "|   JAWA BARAT|    1320|\n",
            "|  JAWA TENGAH|    1030|\n",
            "|DI YOGYAKARTA|    1174|\n",
            "|   JAWA TIMUR|     813|\n",
            "|       BANTEN|    1237|\n",
            "+-------------+--------+\n",
            "\n"
          ]
        }
      ]
    },
    {
      "cell_type": "markdown",
      "source": [
        "####READ JSON FILE\n",
        "- Download file dummy json pada alamat berikut https://www.dropbox.com/s/8wpyzukkmmn3t6g/penduduk2015.json\n",
        "- Buat spark dataframe dari data json tersebut "
      ],
      "metadata": {
        "id": "T_q5zVgb9SAB"
      }
    },
    {
      "cell_type": "code",
      "source": [
        "!wget https://www.dropbox.com/s/8wpyzukkmmn3t6g/penduduk2015.json"
      ],
      "metadata": {
        "colab": {
          "base_uri": "https://localhost:8080/"
        },
        "id": "ET9bU6TB9Okq",
        "outputId": "cf485782-fc4f-4c30-b318-73144c843d95"
      },
      "execution_count": 14,
      "outputs": [
        {
          "output_type": "stream",
          "name": "stdout",
          "text": [
            "--2023-03-07 02:46:38--  https://www.dropbox.com/s/8wpyzukkmmn3t6g/penduduk2015.json\n",
            "Resolving www.dropbox.com (www.dropbox.com)... 162.125.5.18, 2620:100:601d:18::a27d:512\n",
            "Connecting to www.dropbox.com (www.dropbox.com)|162.125.5.18|:443... connected.\n",
            "HTTP request sent, awaiting response... 302 Found\n",
            "Location: /s/raw/8wpyzukkmmn3t6g/penduduk2015.json [following]\n",
            "--2023-03-07 02:46:38--  https://www.dropbox.com/s/raw/8wpyzukkmmn3t6g/penduduk2015.json\n",
            "Reusing existing connection to www.dropbox.com:443.\n",
            "HTTP request sent, awaiting response... 302 Found\n",
            "Location: https://uc295143cffad6ff053ab3efe4db.dl.dropboxusercontent.com/cd/0/inline/B3yPE0XEA6FHNPfvrpmvmljirbIHdQ3uFzfzIuXA-QPhzJiPEA3531viVx6jtbgdpy3dFuTxDKxNlJ0nwvX0BOlUsLPatJMX1GFWpBmfoRghm8oVayCUq6EwWqzrM-7JwF0TXlZobbCl3hKXd0qf4xbiY6U_9A_MIzrlMZ0kUe6CLA/file# [following]\n",
            "--2023-03-07 02:46:38--  https://uc295143cffad6ff053ab3efe4db.dl.dropboxusercontent.com/cd/0/inline/B3yPE0XEA6FHNPfvrpmvmljirbIHdQ3uFzfzIuXA-QPhzJiPEA3531viVx6jtbgdpy3dFuTxDKxNlJ0nwvX0BOlUsLPatJMX1GFWpBmfoRghm8oVayCUq6EwWqzrM-7JwF0TXlZobbCl3hKXd0qf4xbiY6U_9A_MIzrlMZ0kUe6CLA/file\n",
            "Resolving uc295143cffad6ff053ab3efe4db.dl.dropboxusercontent.com (uc295143cffad6ff053ab3efe4db.dl.dropboxusercontent.com)... 162.125.5.15, 2620:100:601d:15::a27d:50f\n",
            "Connecting to uc295143cffad6ff053ab3efe4db.dl.dropboxusercontent.com (uc295143cffad6ff053ab3efe4db.dl.dropboxusercontent.com)|162.125.5.15|:443... connected.\n",
            "HTTP request sent, awaiting response... 200 OK\n",
            "Length: 364 [text/plain]\n",
            "Saving to: ‘penduduk2015.json’\n",
            "\n",
            "penduduk2015.json   100%[===================>]     364  --.-KB/s    in 0s      \n",
            "\n",
            "2023-03-07 02:46:39 (48.9 MB/s) - ‘penduduk2015.json’ saved [364/364]\n",
            "\n"
          ]
        }
      ]
    },
    {
      "cell_type": "code",
      "source": [
        "!cat penduduk2015.json"
      ],
      "metadata": {
        "colab": {
          "base_uri": "https://localhost:8080/"
        },
        "id": "eZJF4Cui9quj",
        "outputId": "4d320d65-1d2d-44a5-f069-9eced80bb957"
      },
      "execution_count": 15,
      "outputs": [
        {
          "output_type": "stream",
          "name": "stdout",
          "text": [
            "[\r\n",
            " {\r\n",
            "   \"propinsi\": \"DKI JAKARTA\",\r\n",
            "   \"penduduk\": 15328\r\n",
            " },\r\n",
            " {\r\n",
            "   \"propinsi\": \"JAWA BARAT\",\r\n",
            "   \"penduduk\": 1320\r\n",
            " },\r\n",
            " {\r\n",
            "   \"propinsi\": \"JAWA TENGAH\",\r\n",
            "   \"penduduk\": 1030\r\n",
            " },\r\n",
            " {\r\n",
            "   \"propinsi\": \"DI YOGYAKARTA\",\r\n",
            "   \"penduduk\": 1174\r\n",
            " },\r\n",
            " {\r\n",
            "   \"propinsi\": \"JAWA TIMUR\",\r\n",
            "   \"penduduk\": 813\r\n",
            " },\r\n",
            " {\r\n",
            "   \"propinsi\": \"BANTEN\",\r\n",
            "   \"penduduk\": 1237\r\n",
            " }\r\n",
            "]"
          ]
        }
      ]
    },
    {
      "cell_type": "code",
      "source": [
        "dfj = \n",
        "dfj.show()"
      ],
      "metadata": {
        "colab": {
          "base_uri": "https://localhost:8080/"
        },
        "id": "t9lVUFm19tUr",
        "outputId": "a0a79cff-622b-4261-b413-1d0755fd2c23"
      },
      "execution_count": 16,
      "outputs": [
        {
          "output_type": "stream",
          "name": "stdout",
          "text": [
            "+--------+-------------+\n",
            "|penduduk|     propinsi|\n",
            "+--------+-------------+\n",
            "|   15328|  DKI JAKARTA|\n",
            "|    1320|   JAWA BARAT|\n",
            "|    1030|  JAWA TENGAH|\n",
            "|    1174|DI YOGYAKARTA|\n",
            "|     813|   JAWA TIMUR|\n",
            "|    1237|       BANTEN|\n",
            "+--------+-------------+\n",
            "\n"
          ]
        }
      ]
    },
    {
      "cell_type": "code",
      "source": [],
      "metadata": {
        "id": "XqrjjA-V9y1F"
      },
      "execution_count": null,
      "outputs": []
    },
    {
      "cell_type": "code",
      "source": [],
      "metadata": {
        "id": "MksJ-3AS_mU3"
      },
      "execution_count": null,
      "outputs": []
    },
    {
      "cell_type": "markdown",
      "source": [
        "####SIMPLE CASE\n",
        "- Buatlah spark dataframe dari sample data array berikut \n",
        "- Cleansing data tersebut sesuiakan nama provinsi menjadi format yang sama\n",
        "- Hitung Max,Min,Sum,Count,Avg berdasarkan provinsi dari data terseut"
      ],
      "metadata": {
        "id": "_UfWeW2U_oe9"
      }
    },
    {
      "cell_type": "code",
      "source": [
        "myDataArray = (('Banten',1222258,'Lebak'),\n",
        "('Banten',1175148,'Pandeglang'),\n",
        "('Banten',1435003,'Serang'),\n",
        "('Banten',2619803,'Tangerang'),\n",
        "('DKI Jakarta',23340,'Kepulauan Seribu'),\n",
        "('DKI Jakarta',2185711,'Jakarta Selatan'),\n",
        "('DKI Jakarta',2843816,'Jakarta Timur'),\n",
        "('DKI Jakarta',914182,'Jakarta Pusat'),\n",
        "('DKI Jakarta',2463560,'Jakarta Barat'),\n",
        "('DKI Jakarta',1747315,'Jakarta Utara'),\n",
        "('Jakarta',156412,'JakPus'),\n",
        "('BANTEN',1123,'TangSel')\n",
        ")"
      ],
      "metadata": {
        "id": "0li32M-Y_qhO"
      },
      "execution_count": 17,
      "outputs": []
    },
    {
      "cell_type": "code",
      "source": [],
      "metadata": {
        "id": "JEZdwfOFAS2y"
      },
      "execution_count": null,
      "outputs": []
    }
  ]
}